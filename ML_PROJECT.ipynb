{
  "nbformat": 4,
  "nbformat_minor": 0,
  "metadata": {
    "colab": {
      "name": "ML PROJECT.ipynb",
      "provenance": [],
      "toc_visible": true,
      "authorship_tag": "ABX9TyM2tNMKS0groywBLeysND1K",
      "include_colab_link": true
    },
    "kernelspec": {
      "name": "python3",
      "display_name": "Python 3"
    }
  },
  "cells": [
    {
      "cell_type": "markdown",
      "metadata": {
        "id": "view-in-github",
        "colab_type": "text"
      },
      "source": [
        "<a href=\"https://colab.research.google.com/github/rajesh2072/Exploratory-data-analysis-of-car-features/blob/master/ML_PROJECT.ipynb\" target=\"_parent\"><img src=\"https://colab.research.google.com/assets/colab-badge.svg\" alt=\"Open In Colab\"/></a>"
      ]
    },
    {
      "cell_type": "markdown",
      "metadata": {
        "id": "j7PzDekazsaq",
        "colab_type": "text"
      },
      "source": [
        ""
      ]
    },
    {
      "cell_type": "markdown",
      "metadata": {
        "id": "2WtaDL6lMxy9",
        "colab_type": "text"
      },
      "source": [
        "# Exploratory data analysis in Python.\n",
        "In statistics, exploratory data analysis (EDA) is an approach to analyzing data sets to summarize their main characteristics, often with visual methods. A statistical model can be used or not, but primarily EDA is for seeing what the data can tell us beyond the formal modeling or hypothesis testing task"
      ]
    },
    {
      "cell_type": "code",
      "metadata": {
        "id": "4Rgz09weut1V",
        "colab_type": "code",
        "colab": {}
      },
      "source": [
        "from google.colab import drive\n",
        "drive.mount('/content/drive')"
      ],
      "execution_count": null,
      "outputs": []
    },
    {
      "cell_type": "markdown",
      "metadata": {
        "id": "sepYHWvwODPJ",
        "colab_type": "text"
      },
      "source": [
        "# EDA STARTS NOW\n",
        "Multiple libraries are available to perform basic EDA but I am going to use pandas and matplotlib for this post. Pandas for data manipulation and matplotlib, well, for plotting graphs. Jupyter Nootbooks to write code and other findings. Jupyter notebooks is kind of diary for data analysis and scientists, a web based platform where you can mix Python, html and Markdown to explain your data insights"
      ]
    },
    {
      "cell_type": "markdown",
      "metadata": {
        "id": "hzC6UkLZvkpx",
        "colab_type": "text"
      },
      "source": [
        "# 1.** Import the dataset and the necessary libraries, check datatype, statistical summary, shape, null values etc.** **\n",
        "Since the data set was already in a CSV format. All I had to do is just format the data into a pandas data frame. This was done by using a pandas data frame method called (read_csv) by importing pandas library. The read_csv data frame method was used by passing the filename as an argument. And then by executing this, it converted the CSV file into a neatly organized pandas data frame format.\n"
      ]
    },
    {
      "cell_type": "markdown",
      "metadata": {
        "id": "Wg0LBgDgzIhK",
        "colab_type": "text"
      },
      "source": [
        "# 1.1 importing the required libraries for EDA"
      ]
    },
    {
      "cell_type": "code",
      "metadata": {
        "id": "AlBLZ5dYwloe",
        "colab_type": "code",
        "colab": {}
      },
      "source": [
        "#1.1 importing neccesory libraries for EDA\n",
        "import pandas as pd\n",
        "import numpy as np\n",
        "import seaborn as sns #visualising\n",
        "import matplotlib.pyplot as plt #visualising \n",
        "from sklearn import datasets, linear_model\n",
        "from sklearn.model_selection import train_test_split\n",
        "%matplotlib inline \n",
        "sns.set(color_codes=True)\n",
        "\n"
      ],
      "execution_count": null,
      "outputs": []
    },
    {
      "cell_type": "markdown",
      "metadata": {
        "id": "g4hZmwJiyfSy",
        "colab_type": "text"
      },
      "source": [
        "# 1.1 Loding the data into data frame."
      ]
    },
    {
      "cell_type": "code",
      "metadata": {
        "id": "ujxYVsEdxPmP",
        "colab_type": "code",
        "colab": {}
      },
      "source": [
        "#1.2 Reading the data \n",
        "df = pd.read_csv(\"data.csv\")\n",
        "# To display the top 5 rows\n",
        "df.head(5)\n"
      ],
      "execution_count": null,
      "outputs": []
    },
    {
      "cell_type": "code",
      "metadata": {
        "id": "0RAhffOy0Mvf",
        "colab_type": "code",
        "colab": {}
      },
      "source": [
        "# To display the bottom 5 rows\n",
        "df.tail(5)"
      ],
      "execution_count": null,
      "outputs": []
    },
    {
      "cell_type": "markdown",
      "metadata": {
        "id": "TAn_1xhX0bhA",
        "colab_type": "text"
      },
      "source": [
        "## 1.2 checking the types of data and basics summary stats\n",
        "usually we check for datatypes since sometimes the MSRP or the price of the car would be stored as a string, if in that case, we have to convert that string to the integer data only then we can plot the data via a graph. Here, in this case, the data is already in integer format so nothing to worry"
      ]
    },
    {
      "cell_type": "code",
      "metadata": {
        "id": "VJeeefDc2LUW",
        "colab_type": "code",
        "colab": {}
      },
      "source": [
        "# Checking the data type\n",
        "df.dtypes"
      ],
      "execution_count": null,
      "outputs": []
    },
    {
      "cell_type": "code",
      "metadata": {
        "id": "uMen0oL32hWk",
        "colab_type": "code",
        "colab": {}
      },
      "source": [
        "df.describe()"
      ],
      "execution_count": null,
      "outputs": []
    },
    {
      "cell_type": "markdown",
      "metadata": {
        "id": "jic6jPeE2qdT",
        "colab_type": "text"
      },
      "source": [
        "# 2. Dropping irrelevant columns\n",
        "\n",
        "This step is certainly needed in EDA because sometimes there would be columns that we never use and in such cases dropping is useful. In this case, the columns such as Engine Fuel Type and Number of doors maynot be very relevant. here already dropped so no need"
      ]
    },
    {
      "cell_type": "markdown",
      "metadata": {
        "id": "oiBX4j5i5a5t",
        "colab_type": "text"
      },
      "source": [
        "# 3. Renaming the columns\n",
        "\n",
        "Sometimes, column names can be confusing or not readable, so its a good practice to rename column names as it improves the readability of the data set."
      ]
    },
    {
      "cell_type": "code",
      "metadata": {
        "id": "7HeOMlal3UqD",
        "colab_type": "code",
        "colab": {}
      },
      "source": [
        "#Renaming the Columns\n",
        "df.rename(columns={'Engine HP':'HP','Engine Cylinders':'Cylinders','Transmission Type':'Transmission','Driven_Wheels':'Drive Mode','highway MPG':'MPG-H','city mpg':'MPG-C','MSRP':'MRP'},inplace = True)"
      ],
      "execution_count": null,
      "outputs": []
    },
    {
      "cell_type": "code",
      "metadata": {
        "id": "_aP8tjsI41FN",
        "colab_type": "code",
        "colab": {}
      },
      "source": [
        "# Total number of rows and columns\n",
        "df.shape"
      ],
      "execution_count": null,
      "outputs": []
    },
    {
      "cell_type": "code",
      "metadata": {
        "id": "u_uObjzC59HJ",
        "colab_type": "code",
        "colab": {}
      },
      "source": [
        "df.head(5)"
      ],
      "execution_count": null,
      "outputs": []
    },
    {
      "cell_type": "markdown",
      "metadata": {
        "id": "0mZ_RATW6KRe",
        "colab_type": "text"
      },
      "source": [
        "# 4. Dropping the duplicate rows\n",
        "This is often a handy thing to do because a huge data set as in this case contains more than 10, 000 rows often have some duplicate data, so here we remove all the duplicate value from the data-set."
      ]
    },
    {
      "cell_type": "code",
      "metadata": {
        "id": "SBk2VZcz6SBE",
        "colab_type": "code",
        "colab": {}
      },
      "source": [
        "# Rows containing duplicate data\n",
        "duplicate_rows = df[df.duplicated()]\n",
        "print(duplicate_rows)"
      ],
      "execution_count": null,
      "outputs": []
    },
    {
      "cell_type": "code",
      "metadata": {
        "id": "JbKelTLb6pIH",
        "colab_type": "code",
        "colab": {}
      },
      "source": [
        "# Used to count the number of rows before removing the data\n",
        "df.count()"
      ],
      "execution_count": null,
      "outputs": []
    },
    {
      "cell_type": "code",
      "metadata": {
        "id": "6plNgA0l7L9U",
        "colab_type": "code",
        "colab": {}
      },
      "source": [
        "# Finding the null values.\n",
        "print(df.isnull().sum())"
      ],
      "execution_count": null,
      "outputs": []
    },
    {
      "cell_type": "markdown",
      "metadata": {
        "id": "wVzLI_IT6zjr",
        "colab_type": "text"
      },
      "source": [
        "# 4.1 Dropping the missing or null values.\n",
        "This is mostly similar to the previous step but in here all the missing values are detected and are dropped later. Now, this is not the best approach and generally people just replace the missing values with the mean or the average of that column. This helps in fine tuning the model performance as more the data, a model has the better it performs. But the objective of this project is to do EDA and its fine to drop missing values and also the number of missing values is small compared to the entire dataset"
      ]
    },
    {
      "cell_type": "code",
      "metadata": {
        "id": "J4OxqIyX68G9",
        "colab_type": "code",
        "colab": {}
      },
      "source": [
        "# Dropping the missing values.\n",
        "df = df.dropna() \n",
        "df.count()"
      ],
      "execution_count": null,
      "outputs": []
    },
    {
      "cell_type": "code",
      "metadata": {
        "id": "kJKnwGOJ7lA0",
        "colab_type": "code",
        "colab": {}
      },
      "source": [
        "# After dropping the values\n",
        "print(df.isnull().sum()) "
      ],
      "execution_count": null,
      "outputs": []
    },
    {
      "cell_type": "markdown",
      "metadata": {
        "id": "1GE3h9CO70sT",
        "colab_type": "text"
      },
      "source": [
        "\n",
        "# 5. Detecting Outliers\n",
        "An outlier is a point or set of points that are different from other points. Sometimes they can be very high or very low. It's often a good idea to detect and remove the outliers. Because outliers are one of the primary reasons for resulting in a less accurate model. Often outliers can be seen with visualizations using a box plot. Shown below are the box plot of MSRP, Cylinders, Horsepower and EngineSize. Herein all the plots, you can find some points are outside the box they are none other than outliers."
      ]
    },
    {
      "cell_type": "code",
      "metadata": {
        "id": "mqd0rZDw76r5",
        "colab_type": "code",
        "colab": {}
      },
      "source": [
        "#Plotting Graphs of Data(Columns)\n",
        "sns.boxplot(x=df['MRP'])"
      ],
      "execution_count": null,
      "outputs": []
    },
    {
      "cell_type": "code",
      "metadata": {
        "id": "40Chnao_8L8I",
        "colab_type": "code",
        "colab": {}
      },
      "source": [
        "sns.boxplot(x=df['HP'])"
      ],
      "execution_count": null,
      "outputs": []
    },
    {
      "cell_type": "code",
      "metadata": {
        "id": "Z2APK3wQ8TJK",
        "colab_type": "code",
        "colab": {}
      },
      "source": [
        "sns.boxplot(x=df['Cylinders'])"
      ],
      "execution_count": null,
      "outputs": []
    },
    {
      "cell_type": "code",
      "metadata": {
        "id": "XzjTPTKQ84-Z",
        "colab_type": "code",
        "colab": {}
      },
      "source": [
        "sns.boxplot(x=df['MPG-C'])"
      ],
      "execution_count": null,
      "outputs": []
    },
    {
      "cell_type": "code",
      "metadata": {
        "id": "mrJFjXEU9CKU",
        "colab_type": "code",
        "colab": {}
      },
      "source": [
        "sns.boxplot(x=df['MPG-H'])"
      ],
      "execution_count": null,
      "outputs": []
    },
    {
      "cell_type": "code",
      "metadata": {
        "id": "bWBVkqB89M-c",
        "colab_type": "code",
        "colab": {}
      },
      "source": [
        "sns.boxplot(x=df['Popularity'])"
      ],
      "execution_count": null,
      "outputs": []
    },
    {
      "cell_type": "code",
      "metadata": {
        "id": "zqpffuBT9shO",
        "colab_type": "code",
        "colab": {}
      },
      "source": [
        "#Finding IQR\n",
        "Q1 = df.quantile(0.25)\n",
        "Q3 = df.quantile(0.75)\n",
        "IQR = Q3 - Q1\n",
        "print(IQR)\n"
      ],
      "execution_count": null,
      "outputs": []
    },
    {
      "cell_type": "markdown",
      "metadata": {
        "id": "MujC9V6T-JoO",
        "colab_type": "text"
      },
      "source": [
        "## 6 What car brands are the most represented in the dataset and find the average price among the top car brand"
      ]
    },
    {
      "cell_type": "code",
      "metadata": {
        "id": "lNttCyrM-TjE",
        "colab_type": "code",
        "colab": {}
      },
      "source": [
        "#Removing Outliners\n",
        "df = df[~((df < (Q1 - 1.5 * IQR)) |(df > (Q3 + 1.5 * IQR))).any(axis=1)]"
      ],
      "execution_count": null,
      "outputs": []
    },
    {
      "cell_type": "code",
      "metadata": {
        "id": "v9ikuGcX-gd-",
        "colab_type": "code",
        "colab": {}
      },
      "source": [
        "# Percentage of car per brand\n",
        "counts = df['Make'].value_counts()*100/sum(df['Make'].value_counts())\n",
        "\n",
        "# Top 10 car brands\n",
        "popular_labels = counts.index[:10]\n",
        "# Plot\n",
        "plt.figure(figsize=(10,5))\n",
        "plt.barh(popular_labels, width=counts[:10])\n",
        "plt.title('Top 10 Car brands')\n",
        "plt.show()"
      ],
      "execution_count": null,
      "outputs": []
    },
    {
      "cell_type": "code",
      "metadata": {
        "id": "4ynvu3XU-unL",
        "colab_type": "code",
        "colab": {}
      },
      "source": [
        "prices = df[['Make','MRP']].loc[(df['Make'] == 'Chevrolet')|\n",
        "               (df['Make'] == 'Ford')|\n",
        "               (df['Make'] == 'Volkswagen')|\n",
        "               (df['Make'] == 'Toyota')|\n",
        "               (df['Make'] == 'Dodge')|\n",
        "               (df['Make'] == 'Nissan')|\n",
        "               (df['Make'] == 'GMC')|\n",
        "               (df['Make'] == 'Honda')|\n",
        "               (df['Make'] == 'Mazda')].groupby('Make').mean()\n",
        "print(prices)"
      ],
      "execution_count": null,
      "outputs": []
    },
    {
      "cell_type": "markdown",
      "metadata": {
        "id": "7NnghC28-9v6",
        "colab_type": "text"
      },
      "source": [
        "# 7.Correlation matrix"
      ]
    },
    {
      "cell_type": "code",
      "metadata": {
        "id": "hYpgLmMa_rt9",
        "colab_type": "code",
        "colab": {}
      },
      "source": [
        "df.corr()"
      ],
      "execution_count": null,
      "outputs": []
    },
    {
      "cell_type": "markdown",
      "metadata": {
        "id": "k6Dl5lO4_2nP",
        "colab_type": "text"
      },
      "source": [
        "# High correlation between\n",
        "Cylinders & HP\n",
        "highway mpg & City mpg\n",
        "The more cylinders there are, the more powerful the car is\n",
        "\n",
        "High anticorrelation\n",
        "### Cylinders & highway mpg\n",
        "Highway mpg / Engine Cylinders have a strong negative correlation with highway and city MPG because lower MPG figures mean higher fuel consumption."
      ]
    },
    {
      "cell_type": "code",
      "metadata": {
        "id": "VKZ9A6kk_ALx",
        "colab_type": "code",
        "colab": {}
      },
      "source": [
        "#Plotting Correlation Matrix\n",
        "corrMatrix = df.corr()\n",
        "sns.heatmap(corrMatrix, annot=True)"
      ],
      "execution_count": null,
      "outputs": []
    },
    {
      "cell_type": "markdown",
      "metadata": {
        "id": "otM2Pn8PFFVx",
        "colab_type": "text"
      },
      "source": [
        "From the heatmap plotted above, it can be concluded that:\n",
        ">>> Price is positively dependent on features and Horse Power(HP) and Year\n",
        "\n",
        ">>> The features HP and Cylinders are positively dependent on each other\n",
        "\n",
        ">>>MPG-H and MPG-C have strong negative correlation with Cylinders.\n",
        "simply  if number of cylinders are increased, MPG-H and MPG-C decreases."
      ]
    },
    {
      "cell_type": "markdown",
      "metadata": {
        "id": "z62ck2OdAOk4",
        "colab_type": "text"
      },
      "source": [
        "# 8 ploting different graphs."
      ]
    },
    {
      "cell_type": "code",
      "metadata": {
        "id": "WPVxquqDAWNG",
        "colab_type": "code",
        "colab": {}
      },
      "source": [
        "sns.barplot(df['Cylinders'],df['MRP'])"
      ],
      "execution_count": null,
      "outputs": []
    },
    {
      "cell_type": "code",
      "metadata": {
        "id": "Rf7v4I3bFcSy",
        "colab_type": "code",
        "colab": {}
      },
      "source": [
        "sns.barplot(df['HP'],df['MRP'])"
      ],
      "execution_count": null,
      "outputs": []
    },
    {
      "cell_type": "code",
      "metadata": {
        "id": "onBgNwodFqMs",
        "colab_type": "code",
        "colab": {}
      },
      "source": [
        "sns.barplot(df['MPG-C'],df['MRP'])"
      ],
      "execution_count": null,
      "outputs": []
    },
    {
      "cell_type": "code",
      "metadata": {
        "id": "xLEL-xbGFwyw",
        "colab_type": "code",
        "colab": {}
      },
      "source": [
        "sns.barplot(df['MPG-H'],df['MRP'])"
      ],
      "execution_count": null,
      "outputs": []
    },
    {
      "cell_type": "code",
      "metadata": {
        "id": "B76BE6mxF4cQ",
        "colab_type": "code",
        "colab": {}
      },
      "source": [
        "sns.barplot(df['Popularity'],df['MRP'])"
      ],
      "execution_count": null,
      "outputs": []
    },
    {
      "cell_type": "code",
      "metadata": {
        "id": "ApEHZusCGAng",
        "colab_type": "code",
        "colab": {}
      },
      "source": [
        "sns.barplot(df['Year'],df['MRP'])"
      ],
      "execution_count": null,
      "outputs": []
    },
    {
      "cell_type": "code",
      "metadata": {
        "id": "_SwgLUDgGP8B",
        "colab_type": "code",
        "colab": {}
      },
      "source": [
        "dcc = df.select_dtypes(exclude=[np.number]).columns\n",
        "dcc"
      ],
      "execution_count": null,
      "outputs": []
    },
    {
      "cell_type": "code",
      "metadata": {
        "id": "NFkUQvu4Gp1N",
        "colab_type": "code",
        "colab": {}
      },
      "source": [
        "from sklearn.preprocessing import LabelEncoder\n",
        "#Creating the object instance\n",
        "label_enc = LabelEncoder()\n",
        "for i in dcc:\n",
        "  df[i] = label_enc.fit_transform(df[i])\n",
        "print('Label Encoded Data')\n",
        "df.head()  "
      ],
      "execution_count": null,
      "outputs": []
    },
    {
      "cell_type": "code",
      "metadata": {
        "id": "OT78DRF_NM-D",
        "colab_type": "code",
        "colab": {}
      },
      "source": [
        "#Setting Target Value\n",
        "y = df['MRP']"
      ],
      "execution_count": null,
      "outputs": []
    },
    {
      "cell_type": "code",
      "metadata": {
        "id": "mM8v-Y2UHIXR",
        "colab_type": "code",
        "colab": {}
      },
      "source": [
        "# create training and testing vars\n",
        "\n",
        "X_train, X_test, y_train, y_test = train_test_split(df, y, test_size=0.2)\n",
        "print(X_train.shape, y_train.shape)\n",
        "print(X_test.shape, y_test.shape)"
      ],
      "execution_count": null,
      "outputs": []
    },
    {
      "cell_type": "code",
      "metadata": {
        "id": "xjCsuRzONkMf",
        "colab_type": "code",
        "colab": {}
      },
      "source": [
        "#Fit in a model\n",
        "from sklearn.linear_model import LinearRegression\n",
        "lm = linear_model.LinearRegression()\n",
        "model = lm.fit(X_train, y_train)\n",
        "predictions = lm.predict(X_test)"
      ],
      "execution_count": null,
      "outputs": []
    },
    {
      "cell_type": "code",
      "metadata": {
        "id": "KVBF-CjcNqoX",
        "colab_type": "code",
        "colab": {}
      },
      "source": [
        "#Plotting the Predictions\n",
        "ax=sns.scatterplot(y_test, predictions)\n",
        "ax.set(xlabel = \"True Values\", ylabel = \"Predictions\")"
      ],
      "execution_count": null,
      "outputs": []
    },
    {
      "cell_type": "code",
      "metadata": {
        "id": "PSsqf7cCNwJt",
        "colab_type": "code",
        "colab": {}
      },
      "source": [
        "print ('Score:'), model.score(X_test, y_test)"
      ],
      "execution_count": null,
      "outputs": []
    }
  ]
}